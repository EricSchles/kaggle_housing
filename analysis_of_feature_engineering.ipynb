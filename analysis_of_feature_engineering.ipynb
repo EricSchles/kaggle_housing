{
 "cells": [
  {
   "cell_type": "code",
   "execution_count": 3,
   "metadata": {},
   "outputs": [],
   "source": [
    "import pandas as pd\n",
    "from sklearn import linear_model\n",
    "from sklearn import svm\n",
    "import statsmodels.api as sm\n",
    "import matplotlib.pyplot as plt\n",
    "import skfeature\n",
    "from sklearn import metrics\n",
    "%matplotlib inline"
   ]
  },
  {
   "cell_type": "markdown",
   "metadata": {},
   "source": [
    "# An Introduction to Feature Engineering\n",
    "\n",
    "By Eric Schles\n",
    "\n",
    "Today we are going to cover feature engineering.  We'll start with the easiest form of feature engineering - creating dummy variables.  And then we'll move onto taking the log of diffierent variables, taking the variable and the square of variables, adding the results of other models as features to the model, and finally automatic feature selection, via skfeature and sklearn.  \n",
    "\n",
    "To summarize we'll cover:\n",
    "\n",
    "* dummy variables\n",
    "* logs of variables\n",
    "* polynomial variants of variables\n",
    "* the outputs of other models as features\n",
    "* automatic feature selection via skfeature\n",
    "* automatic feature selection via PCA\n",
    "* automatic feature selection via T-SNE\n",
    "* automatic feature selection via DBSCAN"
   ]
  },
  {
   "cell_type": "code",
   "execution_count": 4,
   "metadata": {},
   "outputs": [],
   "source": [
    "# first let's import some data\n",
    "\n",
    "train = pd.read_csv(\"train.csv\")"
   ]
  },
  {
   "cell_type": "code",
   "execution_count": 6,
   "metadata": {},
   "outputs": [
    {
     "data": {
      "text/plain": [
       "Pave    1454\n",
       "Grvl       6\n",
       "Name: Street, dtype: int64"
      ]
     },
     "execution_count": 6,
     "metadata": {},
     "output_type": "execute_result"
    }
   ],
   "source": [
    "# starting with dummy variables\n",
    "# We'll want to pick dummary variables that occur a somewhat balanced number of times\n",
    "# that makes variables like the following poor choices:\n",
    "\n",
    "train[\"Street\"].value_counts()"
   ]
  },
  {
   "cell_type": "code",
   "execution_count": 14,
   "metadata": {},
   "outputs": [
    {
     "data": {
      "text/plain": [
       "Reg    925\n",
       "IR1    484\n",
       "IR2     41\n",
       "IR3     10\n",
       "Name: LotShape, dtype: int64"
      ]
     },
     "execution_count": 14,
     "metadata": {},
     "output_type": "execute_result"
    }
   ],
   "source": [
    "# And variables like LotShape pretty good:\n",
    "train[\"LotShape\"].value_counts()"
   ]
  },
  {
   "cell_type": "markdown",
   "metadata": {},
   "source": [
    "## Operationalizing dummy variables\n",
    "\n",
    "Now that we've figured out what a good dummy variable looks like, let's operationalize it with a function!  "
   ]
  },
  {
   "cell_type": "code",
   "execution_count": 15,
   "metadata": {},
   "outputs": [],
   "source": [
    "def generate_dummy_variables(df, length_cut_off_percent = 0.75, max_concentration = 0.65):\n",
    "    candidate_columns = []\n",
    "    for column in df.columns:\n",
    "        if df[column].dtype == object:\n",
    "            candidate_columns.append(column)\n",
    "    for column in candidate_columns:\n",
    "        value_counts = df[column].value_counts()\n",
    "        if len(value_counts) < len(df)*length_cut_off_percent: \n",
    "            candidate_columns.remove(column)\n",
    "        sum_vals = sum(value_counts)\n",
    "        percentages = [elem/sum_vals > max_concentration for elem in value_counts]\n",
    "        if any(percentages):\n",
    "            candidate_columns.remove(column)\n",
    "    for column in candidate_columns:\n",
    "        dummy_columns = pd.get_dummies(df[column])\n",
    "        df = pd.concat([df, dummy_columns], axis=1)\n",
    "        df.drop(column, axis=1, inplace=True)\n",
    "    return df"
   ]
  },
  {
   "cell_type": "code",
   "execution_count": null,
   "metadata": {},
   "outputs": [],
   "source": []
  }
 ],
 "metadata": {
  "kernelspec": {
   "display_name": "Python 3",
   "language": "python",
   "name": "python3"
  },
  "language_info": {
   "codemirror_mode": {
    "name": "ipython",
    "version": 3
   },
   "file_extension": ".py",
   "mimetype": "text/x-python",
   "name": "python",
   "nbconvert_exporter": "python",
   "pygments_lexer": "ipython3",
   "version": "3.6.3"
  }
 },
 "nbformat": 4,
 "nbformat_minor": 2
}
